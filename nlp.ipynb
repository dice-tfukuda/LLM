{
 "cells": [
  {
   "cell_type": "markdown",
   "id": "e993c30a-17fc-4def-b1d3-c86bd4ff1db8",
   "metadata": {},
   "source": [
    "# 本ノートブックの目的\n",
    "自然言語処理により文章を分析するための技術検証を行う。"
   ]
  },
  {
   "cell_type": "markdown",
   "id": "0afdb8b4-11af-43c3-9196-dd8d74a1936a",
   "metadata": {
    "tags": []
   },
   "source": [
    "## 感情分析\n",
    "文章のポジティブ・ネガティブを分析する。"
   ]
  },
  {
   "cell_type": "code",
   "execution_count": 1,
   "id": "6cfcf4cc-2a26-4106-9aa4-ec168377cfaf",
   "metadata": {
    "tags": []
   },
   "outputs": [],
   "source": [
    "from transformers import pipeline\n",
    "import fugashi\n",
    "from pprint import pprint\n",
    "import time\n",
    "import pandas as pd"
   ]
  },
  {
   "cell_type": "code",
   "execution_count": 2,
   "id": "6d2b09c0-2019-41fe-afbc-71ffd96730ab",
   "metadata": {
    "tags": []
   },
   "outputs": [
    {
     "name": "stderr",
     "output_type": "stream",
     "text": [
      "WARNING[XFORMERS]: xFormers can't load C++/CUDA extensions. xFormers was built for:\n",
      "    PyTorch 2.0.1+cu118 with CUDA 1108 (you have 2.0.1)\n",
      "    Python  3.11.4 (you have 3.11.4)\n",
      "  Please reinstall xformers (see https://github.com/facebookresearch/xformers#installing-xformers)\n",
      "  Memory-efficient attention, SwiGLU, sparse and more won't be available.\n",
      "  Set XFORMERS_MORE_DETAILS=1 for more details\n"
     ]
    }
   ],
   "source": [
    "# モデル構築\n",
    "text_classification_pipeline = pipeline(\n",
    "    model=\"llm-book/bert-base-japanese-v3-marc_ja\"\n",
    ")"
   ]
  },
  {
   "cell_type": "code",
   "execution_count": 3,
   "id": "c5044c35-1ef2-4229-a4fc-adf1dfcc25c8",
   "metadata": {
    "tags": []
   },
   "outputs": [
    {
     "data": {
      "text/html": [
       "<div>\n",
       "<style scoped>\n",
       "    .dataframe tbody tr th:only-of-type {\n",
       "        vertical-align: middle;\n",
       "    }\n",
       "\n",
       "    .dataframe tbody tr th {\n",
       "        vertical-align: top;\n",
       "    }\n",
       "\n",
       "    .dataframe thead th {\n",
       "        text-align: right;\n",
       "    }\n",
       "</style>\n",
       "<table border=\"1\" class=\"dataframe\">\n",
       "  <thead>\n",
       "    <tr style=\"text-align: right;\">\n",
       "      <th></th>\n",
       "      <th>id</th>\n",
       "      <th>文章</th>\n",
       "    </tr>\n",
       "  </thead>\n",
       "  <tbody>\n",
       "    <tr>\n",
       "      <th>0</th>\n",
       "      <td>1</td>\n",
       "      <td>ケータイを充電する際は、過充電に注意が必要です。バッテリーは、過充電によって劣化が早まる可能...</td>\n",
       "    </tr>\n",
       "    <tr>\n",
       "      <th>1</th>\n",
       "      <td>2</td>\n",
       "      <td>自分を育ててくれた親に対して恩返しの気持ちで介護しているかもしれませんが、介護は体力的にも精...</td>\n",
       "    </tr>\n",
       "    <tr>\n",
       "      <th>2</th>\n",
       "      <td>3</td>\n",
       "      <td>どれだけ顔や体のラインが綺麗でも、姿勢が悪いとそれだけで美しさが損なわれてしまいます。</td>\n",
       "    </tr>\n",
       "    <tr>\n",
       "      <th>3</th>\n",
       "      <td>4</td>\n",
       "      <td>バッテリーに対して過充電の負荷をかけないことで、ケータイを長く大切に使用できます。</td>\n",
       "    </tr>\n",
       "    <tr>\n",
       "      <th>4</th>\n",
       "      <td>5</td>\n",
       "      <td>ご本人様・ご家族の皆様が仲良く笑顔でいられますよう、専門スタッフがサポートさせていただきます。</td>\n",
       "    </tr>\n",
       "  </tbody>\n",
       "</table>\n",
       "</div>"
      ],
      "text/plain": [
       "   id                                                 文章\n",
       "0   1  ケータイを充電する際は、過充電に注意が必要です。バッテリーは、過充電によって劣化が早まる可能...\n",
       "1   2  自分を育ててくれた親に対して恩返しの気持ちで介護しているかもしれませんが、介護は体力的にも精...\n",
       "2   3        どれだけ顔や体のラインが綺麗でも、姿勢が悪いとそれだけで美しさが損なわれてしまいます。\n",
       "3   4          バッテリーに対して過充電の負荷をかけないことで、ケータイを長く大切に使用できます。\n",
       "4   5    ご本人様・ご家族の皆様が仲良く笑顔でいられますよう、専門スタッフがサポートさせていただきます。"
      ]
     },
     "execution_count": 3,
     "metadata": {},
     "output_type": "execute_result"
    }
   ],
   "source": [
    "target_data = \"data/negapozi.xlsx\"\n",
    "df = pd.read_excel(target_data)\n",
    "df"
   ]
  },
  {
   "cell_type": "code",
   "execution_count": 6,
   "id": "1febe115-dab2-4b8d-a267-a5839480fc81",
   "metadata": {
    "tags": []
   },
   "outputs": [
    {
     "data": {
      "text/html": [
       "<div>\n",
       "<style scoped>\n",
       "    .dataframe tbody tr th:only-of-type {\n",
       "        vertical-align: middle;\n",
       "    }\n",
       "\n",
       "    .dataframe tbody tr th {\n",
       "        vertical-align: top;\n",
       "    }\n",
       "\n",
       "    .dataframe thead th {\n",
       "        text-align: right;\n",
       "    }\n",
       "</style>\n",
       "<table border=\"1\" class=\"dataframe\">\n",
       "  <thead>\n",
       "    <tr style=\"text-align: right;\">\n",
       "      <th></th>\n",
       "      <th>p/n</th>\n",
       "      <th>score</th>\n",
       "    </tr>\n",
       "  </thead>\n",
       "  <tbody>\n",
       "    <tr>\n",
       "      <th>0</th>\n",
       "      <td>negative</td>\n",
       "      <td>0.837943</td>\n",
       "    </tr>\n",
       "    <tr>\n",
       "      <th>1</th>\n",
       "      <td>positive</td>\n",
       "      <td>0.787296</td>\n",
       "    </tr>\n",
       "    <tr>\n",
       "      <th>2</th>\n",
       "      <td>negative</td>\n",
       "      <td>0.746773</td>\n",
       "    </tr>\n",
       "    <tr>\n",
       "      <th>3</th>\n",
       "      <td>positive</td>\n",
       "      <td>0.999411</td>\n",
       "    </tr>\n",
       "    <tr>\n",
       "      <th>4</th>\n",
       "      <td>positive</td>\n",
       "      <td>0.998665</td>\n",
       "    </tr>\n",
       "  </tbody>\n",
       "</table>\n",
       "</div>"
      ],
      "text/plain": [
       "        p/n     score\n",
       "0  negative  0.837943\n",
       "1  positive  0.787296\n",
       "2  negative  0.746773\n",
       "3  positive  0.999411\n",
       "4  positive  0.998665"
      ]
     },
     "execution_count": 6,
     "metadata": {},
     "output_type": "execute_result"
    }
   ],
   "source": [
    "text_list = []\n",
    "for i in df.index:\n",
    "    text_list.append(text_classification_pipeline(df[\"文章\"][i])[0])\n",
    "judge_df = pd.DataFrame(text_list)\n",
    "judge_df = judge_df.rename(columns={\"label\": \"p/n\"})\n",
    "judge_df"
   ]
  },
  {
   "cell_type": "code",
   "execution_count": 7,
   "id": "bcf97195-e76a-4b22-a71b-d05233f8509f",
   "metadata": {
    "tags": []
   },
   "outputs": [
    {
     "data": {
      "text/html": [
       "<div>\n",
       "<style scoped>\n",
       "    .dataframe tbody tr th:only-of-type {\n",
       "        vertical-align: middle;\n",
       "    }\n",
       "\n",
       "    .dataframe tbody tr th {\n",
       "        vertical-align: top;\n",
       "    }\n",
       "\n",
       "    .dataframe thead th {\n",
       "        text-align: right;\n",
       "    }\n",
       "</style>\n",
       "<table border=\"1\" class=\"dataframe\">\n",
       "  <thead>\n",
       "    <tr style=\"text-align: right;\">\n",
       "      <th></th>\n",
       "      <th>id</th>\n",
       "      <th>文章</th>\n",
       "      <th>p/n</th>\n",
       "      <th>score</th>\n",
       "    </tr>\n",
       "  </thead>\n",
       "  <tbody>\n",
       "    <tr>\n",
       "      <th>0</th>\n",
       "      <td>0001</td>\n",
       "      <td>ケータイを充電する際は、過充電に注意が必要です。バッテリーは、過充電によって劣化が早まる可能...</td>\n",
       "      <td>negative</td>\n",
       "      <td>0.837943</td>\n",
       "    </tr>\n",
       "    <tr>\n",
       "      <th>1</th>\n",
       "      <td>0002</td>\n",
       "      <td>自分を育ててくれた親に対して恩返しの気持ちで介護しているかもしれませんが、介護は体力的にも精...</td>\n",
       "      <td>positive</td>\n",
       "      <td>0.787296</td>\n",
       "    </tr>\n",
       "    <tr>\n",
       "      <th>2</th>\n",
       "      <td>0003</td>\n",
       "      <td>どれだけ顔や体のラインが綺麗でも、姿勢が悪いとそれだけで美しさが損なわれてしまいます。</td>\n",
       "      <td>negative</td>\n",
       "      <td>0.746773</td>\n",
       "    </tr>\n",
       "    <tr>\n",
       "      <th>3</th>\n",
       "      <td>0004</td>\n",
       "      <td>バッテリーに対して過充電の負荷をかけないことで、ケータイを長く大切に使用できます。</td>\n",
       "      <td>positive</td>\n",
       "      <td>0.999411</td>\n",
       "    </tr>\n",
       "    <tr>\n",
       "      <th>4</th>\n",
       "      <td>0005</td>\n",
       "      <td>ご本人様・ご家族の皆様が仲良く笑顔でいられますよう、専門スタッフがサポートさせていただきます。</td>\n",
       "      <td>positive</td>\n",
       "      <td>0.998665</td>\n",
       "    </tr>\n",
       "  </tbody>\n",
       "</table>\n",
       "</div>"
      ],
      "text/plain": [
       "     id                                                 文章       p/n     score\n",
       "0  0001  ケータイを充電する際は、過充電に注意が必要です。バッテリーは、過充電によって劣化が早まる可能...  negative  0.837943\n",
       "1  0002  自分を育ててくれた親に対して恩返しの気持ちで介護しているかもしれませんが、介護は体力的にも精...  positive  0.787296\n",
       "2  0003        どれだけ顔や体のラインが綺麗でも、姿勢が悪いとそれだけで美しさが損なわれてしまいます。  negative  0.746773\n",
       "3  0004          バッテリーに対して過充電の負荷をかけないことで、ケータイを長く大切に使用できます。  positive  0.999411\n",
       "4  0005    ご本人様・ご家族の皆様が仲良く笑顔でいられますよう、専門スタッフがサポートさせていただきます。  positive  0.998665"
      ]
     },
     "execution_count": 7,
     "metadata": {},
     "output_type": "execute_result"
    }
   ],
   "source": [
    "# データフレーム結合\n",
    "negapozi = pd.merge(df, judge_df, how=\"left\", right_index=True, left_index=True)\n",
    "negapozi[\"id\"] = negapozi[\"id\"].map(lambda x: str(x).zfill(4))\n",
    "negapozi"
   ]
  },
  {
   "cell_type": "code",
   "execution_count": 8,
   "id": "72fa0b52-e299-4b12-9c6e-5449daca26f3",
   "metadata": {
    "tags": []
   },
   "outputs": [],
   "source": [
    "negapozi.to_excel('result/negapozi_judge.xlsx', index=False)"
   ]
  },
  {
   "cell_type": "code",
   "execution_count": null,
   "id": "50f787a3-561b-4a4e-800a-c0797182010f",
   "metadata": {
    "tags": []
   },
   "outputs": [],
   "source": [
    "positive_text = \"世界には言葉がわからなくても感動する音楽がある。\"\n",
    "# positive_textの極性を予測\n",
    "print(text_classification_pipeline(positive_text)[0])"
   ]
  },
  {
   "cell_type": "code",
   "execution_count": null,
   "id": "7f8c9e89-42f2-42fd-9435-17c7c7874804",
   "metadata": {
    "tags": []
   },
   "outputs": [],
   "source": [
    "negative_text = \"私は今日は仕事にやる気が出ないです。\"\n",
    "# positive_textの極性を予測\n",
    "before = time.time()\n",
    "print(text_classification_pipeline(negative_text)[0])\n",
    "after = time.time()\n",
    "print(\"it took {}sec\".format(after - before))"
   ]
  },
  {
   "cell_type": "markdown",
   "id": "263ec62f-a77c-45d6-b243-b0319d21749e",
   "metadata": {},
   "source": [
    "## 要約生成"
   ]
  },
  {
   "cell_type": "code",
   "execution_count": null,
   "id": "261dd592-4683-4ca6-9905-8b7b27fe4ba4",
   "metadata": {
    "tags": []
   },
   "outputs": [],
   "source": [
    "# モデル構築\n",
    "text2text_pipeline = pipeline(\n",
    "    model=\"llm-book/t5-base-long-livedoor-news-corpus\"\n",
    ")"
   ]
  },
  {
   "cell_type": "code",
   "execution_count": null,
   "id": "c6f683cf-53d5-411c-a51f-9c67e1c76694",
   "metadata": {
    "tags": []
   },
   "outputs": [],
   "source": [
    "# articleの要約を生成\n",
    "article = \"ついに始まった３連休。テレビを見ながら過ごしている人も多いのではないだろうか？　今夜オススメなのは何と言っても、NHKスペシャル「世界を変えた男 スティーブ・ジョブズ」だ。実は知らない人も多いジョブズ氏の養子に出された生い立ちや、アップル社から一時追放されるなどの経験。そして、彼が追い求めた理想の未来とはなんだったのか、ファンならずとも気になる内容になっている。 今年、亡くなったジョブズ氏の伝記は日本でもベストセラーになっている。今後もアップル製品だけでなく、世界でのジョブズ氏の影響は大きいだろうと想像される。ジョブズ氏のことをあまり知らないという人もこの機会にぜひチェックしてみよう。 世界を変えた男　スティーブ・ジョブズ（NHKスペシャル）\"\n",
    "before = time.time()\n",
    "print(text2text_pipeline(article)[0][\"generated_text\"])\n",
    "after = time.time()\n",
    "print(\"it took {}sec\".format(after - before))"
   ]
  },
  {
   "cell_type": "markdown",
   "id": "ade39a49-3a75-4bc1-a4b8-c1f22f600edb",
   "metadata": {},
   "source": [
    "## 固有表現認識"
   ]
  },
  {
   "cell_type": "code",
   "execution_count": null,
   "id": "acc0ff4b-68d1-4242-bfff-3a9ef1b87897",
   "metadata": {
    "tags": []
   },
   "outputs": [],
   "source": [
    "# モデル構築\n",
    "ner_pipeline = pipeline(\n",
    "    model=\"llm-book/bert-base-japanese-v3-ner-wikipedia-dataset\",\n",
    "    aggregation_strategy=\"simple\",\n",
    ")"
   ]
  },
  {
   "cell_type": "code",
   "execution_count": null,
   "id": "814ee1f0-0244-4de8-b50e-1a63ddc90468",
   "metadata": {
    "tags": []
   },
   "outputs": [],
   "source": [
    "text = \"大谷翔平は岩手県水沢市出身のプロ野球選手\"\n",
    "# text中の固有表現を抽出\n",
    "before = time.time()\n",
    "pprint(ner_pipeline(text))\n",
    "after = time.time()\n",
    "print(\"it took {}sec\".format(after - before))"
   ]
  },
  {
   "cell_type": "code",
   "execution_count": null,
   "id": "593179f1-7b87-42dc-859f-c0930245d786",
   "metadata": {},
   "outputs": [],
   "source": [
    "意味類似度解析"
   ]
  },
  {
   "cell_type": "code",
   "execution_count": null,
   "id": "fbe74dff-247a-4388-a4ad-9a1564d4bf96",
   "metadata": {},
   "outputs": [],
   "source": [
    "text_sim_pipeline = pipeline(\n",
    "    model=\"llm-book/bert-base-japanese-v3-jsts\",\n",
    "    function_to_apply=\"none\",\n",
    ")\n",
    "text = \"川べりでサーフボードを持った人たちがいます\"\n",
    "sim_text = \"サーファーたちが川べりに立っています\"\n",
    "# textとsim_textの類似度を計算\n",
    "result = text_sim_pipeline({\"text\": text, \"text_pair\": sim_text})\n",
    "print(result[\"score\"])"
   ]
  },
  {
   "cell_type": "code",
   "execution_count": null,
   "id": "25fc3c6a-00dc-4fcc-a366-92e308867cde",
   "metadata": {},
   "outputs": [],
   "source": [
    "dissim_text = \"トイレの壁に黒いタオルがかけられています\"\n",
    "# textとdissim_textの類似度を計算\n",
    "result = text_sim_pipeline({\"text\": text, \"text_pair\": dissim_text})\n",
    "print(result[\"score\"])"
   ]
  },
  {
   "cell_type": "code",
   "execution_count": null,
   "id": "6afe9abf-6c98-4a32-abed-43d2854eb380",
   "metadata": {},
   "outputs": [],
   "source": [
    "from torch.nn.functional import cosine_similarity\n",
    "\n",
    "sim_enc_pipeline = pipeline(\n",
    "    model=\"llm-book/bert-base-japanese-v3-unsup-simcse-jawiki\",\n",
    "    task=\"feature-extraction\",\n",
    ")\n",
    "\n",
    "# textとsim_textのベクトルを獲得\n",
    "text_emb = sim_enc_pipeline(text, return_tensors=True)[0][0]\n",
    "sim_emb = sim_enc_pipeline(sim_text, return_tensors=True)[0][0]\n",
    "# textとsim_textの類似度を計算\n",
    "sim_pair_score = cosine_similarity(text_emb, sim_emb, dim=0)\n",
    "print(sim_pair_score.item())"
   ]
  },
  {
   "cell_type": "code",
   "execution_count": null,
   "id": "f6085058-6945-4364-b7cb-a838c4b4239b",
   "metadata": {},
   "outputs": [],
   "source": [
    "# dissim_textのベクトルを獲得\n",
    "dissim_emb = sim_enc_pipeline(dissim_text, return_tensors=True)[0][0]\n",
    "# textとdissim_textの類似度を計算\n",
    "dissim_pair_score = cosine_similarity(text_emb, dissim_emb, dim=0)\n",
    "print(dissim_pair_score.item())"
   ]
  }
 ],
 "metadata": {
  "kernelspec": {
   "display_name": "Python 3 (ipykernel)",
   "language": "python",
   "name": "python3"
  },
  "language_info": {
   "codemirror_mode": {
    "name": "ipython",
    "version": 3
   },
   "file_extension": ".py",
   "mimetype": "text/x-python",
   "name": "python",
   "nbconvert_exporter": "python",
   "pygments_lexer": "ipython3",
   "version": "3.11.4"
  }
 },
 "nbformat": 4,
 "nbformat_minor": 5
}
