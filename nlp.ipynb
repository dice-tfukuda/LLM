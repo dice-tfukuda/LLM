{
 "cells": [
  {
   "cell_type": "markdown",
   "id": "e993c30a-17fc-4def-b1d3-c86bd4ff1db8",
   "metadata": {},
   "source": [
    "# 本ノートブックの目的\n",
    "自然言語処理により文章を分析するための技術検証を行う。"
   ]
  },
  {
   "cell_type": "markdown",
   "id": "0afdb8b4-11af-43c3-9196-dd8d74a1936a",
   "metadata": {
    "tags": []
   },
   "source": [
    "## 感情分析\n",
    "文章のポジティブ・ネガティブを分析する。"
   ]
  },
  {
   "cell_type": "code",
   "execution_count": 17,
   "id": "6cfcf4cc-2a26-4106-9aa4-ec168377cfaf",
   "metadata": {
    "tags": []
   },
   "outputs": [],
   "source": [
    "from transformers import pipeline\n",
    "import fugashi\n",
    "from pprint import pprint"
   ]
  },
  {
   "cell_type": "code",
   "execution_count": 18,
   "id": "6d2b09c0-2019-41fe-afbc-71ffd96730ab",
   "metadata": {
    "tags": []
   },
   "outputs": [],
   "source": [
    "# モデル構築\n",
    "text_classification_pipeline = pipeline(\n",
    "    model=\"llm-book/bert-base-japanese-v3-marc_ja\"\n",
    ")"
   ]
  },
  {
   "cell_type": "code",
   "execution_count": 4,
   "id": "50f787a3-561b-4a4e-800a-c0797182010f",
   "metadata": {
    "tags": []
   },
   "outputs": [
    {
     "name": "stdout",
     "output_type": "stream",
     "text": [
      "{'label': 'positive', 'score': 0.9993619322776794}\n"
     ]
    }
   ],
   "source": [
    "positive_text = \"世界には言葉がわからなくても感動する音楽がある。\"\n",
    "# positive_textの極性を予測\n",
    "print(text_classification_pipeline(positive_text)[0])"
   ]
  },
  {
   "cell_type": "code",
   "execution_count": 10,
   "id": "7f8c9e89-42f2-42fd-9435-17c7c7874804",
   "metadata": {
    "tags": []
   },
   "outputs": [
    {
     "name": "stdout",
     "output_type": "stream",
     "text": [
      "{'label': 'negative', 'score': 0.9925611615180969}\n",
      "it took 10.234767198562622sec\n"
     ]
    }
   ],
   "source": [
    "negative_text = \"私は今日は仕事にやる気が出ないです。\"\n",
    "# positive_textの極性を予測\n",
    "before = time.time()\n",
    "print(text_classification_pipeline(negative_text)[0])\n",
    "after = time.time()\n",
    "print(\"it took {}sec\".format(after - before))"
   ]
  },
  {
   "cell_type": "markdown",
   "id": "263ec62f-a77c-45d6-b243-b0319d21749e",
   "metadata": {},
   "source": [
    "## 要約生成"
   ]
  },
  {
   "cell_type": "code",
   "execution_count": 13,
   "id": "261dd592-4683-4ca6-9905-8b7b27fe4ba4",
   "metadata": {
    "tags": []
   },
   "outputs": [
    {
     "data": {
      "application/vnd.jupyter.widget-view+json": {
       "model_id": "c62d5e98245f4e8dbd7853b2e4460f8a",
       "version_major": 2,
       "version_minor": 0
      },
      "text/plain": [
       "Downloading (…)neration_config.json:   0%|          | 0.00/142 [00:00<?, ?B/s]"
      ]
     },
     "metadata": {},
     "output_type": "display_data"
    },
    {
     "data": {
      "application/vnd.jupyter.widget-view+json": {
       "model_id": "81eb74cd5f614e8084a7db8078d07ffd",
       "version_major": 2,
       "version_minor": 0
      },
      "text/plain": [
       "Downloading spiece.model:   0%|          | 0.00/798k [00:00<?, ?B/s]"
      ]
     },
     "metadata": {},
     "output_type": "display_data"
    },
    {
     "data": {
      "application/vnd.jupyter.widget-view+json": {
       "model_id": "edc5de84f35b43b7b3703c95b1e74f75",
       "version_major": 2,
       "version_minor": 0
      },
      "text/plain": [
       "Downloading (…)/main/tokenizer.json:   0%|          | 0.00/2.43M [00:00<?, ?B/s]"
      ]
     },
     "metadata": {},
     "output_type": "display_data"
    },
    {
     "data": {
      "application/vnd.jupyter.widget-view+json": {
       "model_id": "70dcd842cb1d4db08f5cd2632f1b87e3",
       "version_major": 2,
       "version_minor": 0
      },
      "text/plain": [
       "Downloading (…)cial_tokens_map.json:   0%|          | 0.00/2.20k [00:00<?, ?B/s]"
      ]
     },
     "metadata": {},
     "output_type": "display_data"
    },
    {
     "name": "stdout",
     "output_type": "stream",
     "text": [
      "今夜はNHKスペシャル「世界を変えた男 スティーブ・ジョブズ」をチェック!\n"
     ]
    }
   ],
   "source": [
    "# モデル構築\n",
    "text2text_pipeline = pipeline(\n",
    "    model=\"llm-book/t5-base-long-livedoor-news-corpus\"\n",
    ")"
   ]
  },
  {
   "cell_type": "code",
   "execution_count": 14,
   "id": "c6f683cf-53d5-411c-a51f-9c67e1c76694",
   "metadata": {
    "tags": []
   },
   "outputs": [
    {
     "name": "stdout",
     "output_type": "stream",
     "text": [
      "今夜はNHKスペシャル「世界を変えた男 スティーブ・ジョブズ」をチェック!\n",
      "it took 131.39983487129211sec\n"
     ]
    }
   ],
   "source": [
    "# articleの要約を生成\n",
    "article = \"ついに始まった３連休。テレビを見ながら過ごしている人も多いのではないだろうか？　今夜オススメなのは何と言っても、NHKスペシャル「世界を変えた男 スティーブ・ジョブズ」だ。実は知らない人も多いジョブズ氏の養子に出された生い立ちや、アップル社から一時追放されるなどの経験。そして、彼が追い求めた理想の未来とはなんだったのか、ファンならずとも気になる内容になっている。 今年、亡くなったジョブズ氏の伝記は日本でもベストセラーになっている。今後もアップル製品だけでなく、世界でのジョブズ氏の影響は大きいだろうと想像される。ジョブズ氏のことをあまり知らないという人もこの機会にぜひチェックしてみよう。 世界を変えた男　スティーブ・ジョブズ（NHKスペシャル）\"\n",
    "before = time.time()\n",
    "print(text2text_pipeline(article)[0][\"generated_text\"])\n",
    "after = time.time()\n",
    "print(\"it took {}sec\".format(after - before))"
   ]
  },
  {
   "cell_type": "markdown",
   "id": "ade39a49-3a75-4bc1-a4b8-c1f22f600edb",
   "metadata": {},
   "source": [
    "## 固有表現認識"
   ]
  },
  {
   "cell_type": "code",
   "execution_count": 15,
   "id": "acc0ff4b-68d1-4242-bfff-3a9ef1b87897",
   "metadata": {
    "tags": []
   },
   "outputs": [
    {
     "data": {
      "application/vnd.jupyter.widget-view+json": {
       "model_id": "5a09a36a55e9415a9d4170cc5c2a7b50",
       "version_major": 2,
       "version_minor": 0
      },
      "text/plain": [
       "Downloading (…)lve/main/config.json:   0%|          | 0.00/1.93k [00:00<?, ?B/s]"
      ]
     },
     "metadata": {},
     "output_type": "display_data"
    },
    {
     "data": {
      "application/vnd.jupyter.widget-view+json": {
       "model_id": "0288fb7bbacf406e8e064dcedbd712ea",
       "version_major": 2,
       "version_minor": 0
      },
      "text/plain": [
       "Downloading pytorch_model.bin:   0%|          | 0.00/443M [00:00<?, ?B/s]"
      ]
     },
     "metadata": {},
     "output_type": "display_data"
    },
    {
     "data": {
      "application/vnd.jupyter.widget-view+json": {
       "model_id": "48c4b7f0fb204327bf58cf49a1e904a9",
       "version_major": 2,
       "version_minor": 0
      },
      "text/plain": [
       "Downloading (…)okenizer_config.json:   0%|          | 0.00/529 [00:00<?, ?B/s]"
      ]
     },
     "metadata": {},
     "output_type": "display_data"
    },
    {
     "data": {
      "application/vnd.jupyter.widget-view+json": {
       "model_id": "af6361b23b5541e1902a98ada0647301",
       "version_major": 2,
       "version_minor": 0
      },
      "text/plain": [
       "Downloading (…)solve/main/vocab.txt:   0%|          | 0.00/231k [00:00<?, ?B/s]"
      ]
     },
     "metadata": {},
     "output_type": "display_data"
    },
    {
     "data": {
      "application/vnd.jupyter.widget-view+json": {
       "model_id": "1396222f3abf48aa80904fd3caa42de8",
       "version_major": 2,
       "version_minor": 0
      },
      "text/plain": [
       "Downloading (…)cial_tokens_map.json:   0%|          | 0.00/125 [00:00<?, ?B/s]"
      ]
     },
     "metadata": {},
     "output_type": "display_data"
    }
   ],
   "source": [
    "# モデル構築\n",
    "ner_pipeline = pipeline(\n",
    "    model=\"llm-book/bert-base-japanese-v3-ner-wikipedia-dataset\",\n",
    "    aggregation_strategy=\"simple\",\n",
    ")"
   ]
  },
  {
   "cell_type": "code",
   "execution_count": 19,
   "id": "814ee1f0-0244-4de8-b50e-1a63ddc90468",
   "metadata": {
    "tags": []
   },
   "outputs": [
    {
     "name": "stdout",
     "output_type": "stream",
     "text": [
      "[{'end': None,\n",
      "  'entity_group': '人名',\n",
      "  'score': 0.99823624,\n",
      "  'start': None,\n",
      "  'word': '大谷 翔平'},\n",
      " {'end': None,\n",
      "  'entity_group': '地名',\n",
      "  'score': 0.9986874,\n",
      "  'start': None,\n",
      "  'word': '岩手 県 水沢 市'}]\n",
      "it took 12.459259748458862sec\n"
     ]
    }
   ],
   "source": [
    "text = \"大谷翔平は岩手県水沢市出身のプロ野球選手\"\n",
    "# text中の固有表現を抽出\n",
    "before = time.time()\n",
    "pprint(ner_pipeline(text))\n",
    "after = time.time()\n",
    "print(\"it took {}sec\".format(after - before))"
   ]
  },
  {
   "cell_type": "code",
   "execution_count": null,
   "id": "fbe74dff-247a-4388-a4ad-9a1564d4bf96",
   "metadata": {},
   "outputs": [],
   "source": []
  }
 ],
 "metadata": {
  "kernelspec": {
   "display_name": "Python 3 (ipykernel)",
   "language": "python",
   "name": "python3"
  },
  "language_info": {
   "codemirror_mode": {
    "name": "ipython",
    "version": 3
   },
   "file_extension": ".py",
   "mimetype": "text/x-python",
   "name": "python",
   "nbconvert_exporter": "python",
   "pygments_lexer": "ipython3",
   "version": "3.11.4"
  }
 },
 "nbformat": 4,
 "nbformat_minor": 5
}
